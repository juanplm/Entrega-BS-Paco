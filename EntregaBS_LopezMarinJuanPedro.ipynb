{
 "cells": [
  {
   "cell_type": "code",
   "execution_count": 1,
   "metadata": {},
   "outputs": [],
   "source": [
    "import cplex\n",
    "import cobra\n",
    "import time\n",
    "import pickle\n",
    "cobra.Configuration().solver='cplex'"
   ]
  },
  {
   "cell_type": "markdown",
   "metadata": {},
   "source": [
    "## 1. Selección de modelos de tejido y de mieloma"
   ]
  },
  {
   "cell_type": "markdown",
   "metadata": {},
   "source": [
    "### Codigo empleado para cargar por primera vez los modelos y guardarlos con Pickle"
   ]
  },
  {
   "cell_type": "code",
   "execution_count": 34,
   "metadata": {},
   "outputs": [
    {
     "name": "stdout",
     "output_type": "stream",
     "text": [
      "75.93215274810791\n"
     ]
    }
   ],
   "source": [
    "#start=time.time()\n",
    "#blood=cobra.io.read_sbml_model(\"../Entrega Paco/blood.xml\")\n",
    "#print(time.time()-start)"
   ]
  },
  {
   "cell_type": "code",
   "execution_count": 35,
   "metadata": {},
   "outputs": [
    {
     "name": "stdout",
     "output_type": "stream",
     "text": [
      "80.54548740386963\n"
     ]
    }
   ],
   "source": [
    "#start=time.time()\n",
    "#liver=cobra.io.read_sbml_model(\"../Entrega Paco/liver.xml\")\n",
    "#print(time.time()-start)"
   ]
  },
  {
   "cell_type": "code",
   "execution_count": 36,
   "metadata": {},
   "outputs": [
    {
     "name": "stdout",
     "output_type": "stream",
     "text": [
      "75.86897373199463\n"
     ]
    }
   ],
   "source": [
    "#start=time.time()\n",
    "#muscle=cobra.io.read_sbml_model(\"../Entrega Paco/muscle.xml\")\n",
    "#print(time.time()-start)"
   ]
  },
  {
   "cell_type": "code",
   "execution_count": 37,
   "metadata": {},
   "outputs": [
    {
     "name": "stdout",
     "output_type": "stream",
     "text": [
      "76.25639605522156\n"
     ]
    }
   ],
   "source": [
    "#start=time.time()\n",
    "#KMS20=cobra.io.read_sbml_model(\"../Entrega Paco/KMS20.xml\")\n",
    "#print(time.time()-start)"
   ]
  },
  {
   "cell_type": "code",
   "execution_count": 38,
   "metadata": {},
   "outputs": [
    {
     "name": "stdout",
     "output_type": "stream",
     "text": [
      "73.2776792049408\n"
     ]
    }
   ],
   "source": [
    "#start=time.time()\n",
    "#HUNS1=cobra.io.read_sbml_model(\"../Entrega Paco/HUNS1.xml\")\n",
    "#print(time.time()-start)"
   ]
  },
  {
   "cell_type": "code",
   "execution_count": 39,
   "metadata": {},
   "outputs": [
    {
     "name": "stdout",
     "output_type": "stream",
     "text": [
      "75.16148519515991\n"
     ]
    }
   ],
   "source": [
    "#start=time.time()\n",
    "#JJN3=cobra.io.read_sbml_model(\"../Entrega Paco/JJN3.xml\")\n",
    "#print(time.time()-start)"
   ]
  },
  {
   "cell_type": "code",
   "execution_count": 40,
   "metadata": {},
   "outputs": [],
   "source": [
    "#import pickle #Para guardar información (en formato comprimido)\n",
    "\n",
    "#nombre=\"./blood.dat\"\n",
    "#with open(nombre, \"wb\") as f:\n",
    "#    pickle.dump(blood, f)\n",
    "    \n",
    "#nombre=\"./liver.dat\"\n",
    "#with open(nombre, \"wb\") as f:\n",
    "#    pickle.dump(liver, f)\n",
    "\n",
    "#nombre=\"./muscle.dat\"\n",
    "#with open(nombre, \"wb\") as f:\n",
    "#    pickle.dump(muscle, f)\n",
    "\n",
    "#nombre=\"./KMS20.dat\"\n",
    "#with open(nombre, \"wb\") as f:\n",
    "#    pickle.dump(KMS20, f)\n",
    "\n",
    "#nombre=\"./HUNS1.dat\"\n",
    "#with open(nombre, \"wb\") as f:\n",
    "#    pickle.dump(HUNS1, f)\n",
    "\n",
    "#nombre=\"./JJN3.dat\"\n",
    "#with open(nombre, \"wb\") as f:\n",
    "#    pickle.dump(JJN3, f)"
   ]
  },
  {
   "cell_type": "markdown",
   "metadata": {},
   "source": [
    "### Carga de los Modelos con Pickle"
   ]
  },
  {
   "cell_type": "code",
   "execution_count": 2,
   "metadata": {},
   "outputs": [],
   "source": [
    "nombre=\"./blood.dat\"\n",
    "with open(nombre, \"rb\") as f:\n",
    "    blood = pickle.load(f)\n",
    "\n",
    "nombre=\"./liver.dat\"\n",
    "with open(nombre, \"rb\") as f:\n",
    "    liver = pickle.load(f)\n",
    "\n",
    "nombre=\"./muscle.dat\"\n",
    "with open(nombre, \"rb\") as f:\n",
    "    muscle = pickle.load(f)\n",
    "    \n",
    "nombre=\"./KMS20.dat\"\n",
    "with open(nombre, \"rb\") as f:\n",
    "    KMS20 = pickle.load(f)\n",
    "\n",
    "nombre=\"./HUNS1.dat\"\n",
    "with open(nombre, \"rb\") as f:\n",
    "    HUNS1 = pickle.load(f)\n",
    "    \n",
    "nombre=\"./JJN3.dat\"\n",
    "with open(nombre, \"rb\") as f:\n",
    "    JJN3 = pickle.load(f)\n",
    "\n",
    "nombre=\"./Human_1_17.dat\"\n",
    "with open(nombre, \"rb\") as f:\n",
    "    human = pickle.load(f)"
   ]
  },
  {
   "cell_type": "markdown",
   "metadata": {},
   "source": [
    "**Para llevar a cabo tanto el punto 2 como el punto 3 he utilizado un script adicional al que he llamado \"carga_gCSs.ipynb\", el cual me permite calcular las toxicidades genéticas específicas de cada tejido sano, así como los targets genéticos de cada modelo de mieloma (\"cut-sets\" de cada modelo), ejecutando dicho script desde la máquina \"Ampere\"**\n",
    "\n",
    "**Una vez he calculado todos los genes para cada modelo, los guardo en sus respectivos archivos y los cargo posteriormente otra vez en Pascal mediante Pickle, que es lo que se puede ver a continuación**"
   ]
  },
  {
   "cell_type": "markdown",
   "metadata": {},
   "source": [
    "## Carga de los \"Cut-sets\""
   ]
  },
  {
   "cell_type": "code",
   "execution_count": 3,
   "metadata": {},
   "outputs": [
    {
     "data": {
      "text/plain": [
       "133"
      ]
     },
     "execution_count": 3,
     "metadata": {},
     "output_type": "execute_result"
    }
   ],
   "source": [
    "nombre=\"./bloodgMCS.dat\"\n",
    "with open(nombre, \"rb\") as f:\n",
    "    bloodgMCS=pickle.load(f)\n",
    "len(bloodgMCS)"
   ]
  },
  {
   "cell_type": "code",
   "execution_count": 4,
   "metadata": {},
   "outputs": [
    {
     "data": {
      "text/plain": [
       "131"
      ]
     },
     "execution_count": 4,
     "metadata": {},
     "output_type": "execute_result"
    }
   ],
   "source": [
    "nombre=\"./livergMCS.dat\"\n",
    "with open(nombre, \"rb\") as f:\n",
    "    livergMCS=pickle.load(f)\n",
    "len(livergMCS)"
   ]
  },
  {
   "cell_type": "code",
   "execution_count": 5,
   "metadata": {},
   "outputs": [
    {
     "data": {
      "text/plain": [
       "120"
      ]
     },
     "execution_count": 5,
     "metadata": {},
     "output_type": "execute_result"
    }
   ],
   "source": [
    "nombre=\"./musclegMCS.dat\"\n",
    "with open(nombre, \"rb\") as f:\n",
    "    musclegMCS=pickle.load(f)\n",
    "len(musclegMCS)"
   ]
  },
  {
   "cell_type": "code",
   "execution_count": 6,
   "metadata": {},
   "outputs": [
    {
     "data": {
      "text/plain": [
       "105"
      ]
     },
     "execution_count": 6,
     "metadata": {},
     "output_type": "execute_result"
    }
   ],
   "source": [
    "nombre=\"./JJN3gMCS.dat\"\n",
    "with open(nombre, \"rb\") as f:\n",
    "    JJN3gMCS=pickle.load(f)\n",
    "len(JJN3gMCS)"
   ]
  },
  {
   "cell_type": "code",
   "execution_count": 7,
   "metadata": {},
   "outputs": [
    {
     "data": {
      "text/plain": [
       "122"
      ]
     },
     "execution_count": 7,
     "metadata": {},
     "output_type": "execute_result"
    }
   ],
   "source": [
    "nombre=\"./KMS20gMCS.dat\"\n",
    "with open(nombre, \"rb\") as f:\n",
    "    KMS20gMCS=pickle.load(f)\n",
    "len(KMS20gMCS)"
   ]
  },
  {
   "cell_type": "code",
   "execution_count": 8,
   "metadata": {},
   "outputs": [
    {
     "data": {
      "text/plain": [
       "112"
      ]
     },
     "execution_count": 8,
     "metadata": {},
     "output_type": "execute_result"
    }
   ],
   "source": [
    "nombre=\"./HUNS1gMCS.dat\"\n",
    "with open(nombre, \"rb\") as f:\n",
    "    HUNS1gMCS=pickle.load(f)\n",
    "len(HUNS1gMCS)"
   ]
  },
  {
   "cell_type": "code",
   "execution_count": 9,
   "metadata": {},
   "outputs": [
    {
     "data": {
      "text/plain": [
       "92"
      ]
     },
     "execution_count": 9,
     "metadata": {},
     "output_type": "execute_result"
    }
   ],
   "source": [
    "# Toxicidades del modelo genérico\n",
    "nombre=\"./humangMCS.dat\"\n",
    "with open(nombre, \"rb\") as f:\n",
    "    humangMCS=pickle.load(f)\n",
    "len(humangMCS)"
   ]
  },
  {
   "cell_type": "markdown",
   "metadata": {},
   "source": [
    "**En todas estas variables de encima están almacenados los targets específicos para cada tejido/modelo**"
   ]
  },
  {
   "cell_type": "markdown",
   "metadata": {},
   "source": [
    "## 4. Elimina de los conjuntos anteriores aquellos genes que sean toxicidades genéricas"
   ]
  },
  {
   "cell_type": "markdown",
   "metadata": {},
   "source": [
    "**A continuación, lo siguiente que hacemos es, dentro de todos esos genes, eliminar en cada caso aquellos genes que sean \"toxicidades genéricas\". Para ello hacemos uso de \"humangMCS\", donde están almacenados los targets genéricos.**"
   ]
  },
  {
   "cell_type": "code",
   "execution_count": 9,
   "metadata": {},
   "outputs": [
    {
     "data": {
      "text/plain": [
       "41"
      ]
     },
     "execution_count": 9,
     "metadata": {},
     "output_type": "execute_result"
    }
   ],
   "source": [
    "EspecificasSangre = bloodgMCS.difference(humangMCS)\n",
    "len(EspecificasSangre)"
   ]
  },
  {
   "cell_type": "code",
   "execution_count": 10,
   "metadata": {},
   "outputs": [
    {
     "data": {
      "text/plain": [
       "39"
      ]
     },
     "execution_count": 10,
     "metadata": {},
     "output_type": "execute_result"
    }
   ],
   "source": [
    "EspecificasHígado = livergMCS.difference(humangMCS)\n",
    "len(EspecificasHígado)"
   ]
  },
  {
   "cell_type": "code",
   "execution_count": 11,
   "metadata": {},
   "outputs": [
    {
     "data": {
      "text/plain": [
       "28"
      ]
     },
     "execution_count": 11,
     "metadata": {},
     "output_type": "execute_result"
    }
   ],
   "source": [
    "EspecificasMusculo = musclegMCS.difference(humangMCS)\n",
    "len(EspecificasMusculo)"
   ]
  },
  {
   "cell_type": "markdown",
   "metadata": {},
   "source": [
    "**Para saber cuales son las toxicidades específicas de cada mieloma, tenemos que hacer la diferencia entre el modelo genérico (human) y los diferentes modelos de mieloma.**"
   ]
  },
  {
   "cell_type": "code",
   "execution_count": 12,
   "metadata": {},
   "outputs": [
    {
     "data": {
      "text/plain": [
       "31"
      ]
     },
     "execution_count": 12,
     "metadata": {},
     "output_type": "execute_result"
    }
   ],
   "source": [
    "EspecificasKMS20 = KMS20gMCS.difference(humangMCS)\n",
    "len(EspecificasKMS20)"
   ]
  },
  {
   "cell_type": "code",
   "execution_count": 13,
   "metadata": {},
   "outputs": [
    {
     "data": {
      "text/plain": [
       "21"
      ]
     },
     "execution_count": 13,
     "metadata": {},
     "output_type": "execute_result"
    }
   ],
   "source": [
    "EspecificasHUNS1 = HUNS1gMCS.difference(humangMCS)\n",
    "len(EspecificasHUNS1)"
   ]
  },
  {
   "cell_type": "code",
   "execution_count": 14,
   "metadata": {},
   "outputs": [
    {
     "data": {
      "text/plain": [
       "14"
      ]
     },
     "execution_count": 14,
     "metadata": {},
     "output_type": "execute_result"
    }
   ],
   "source": [
    "EspecificasJJN3 = JJN3gMCS.difference(humangMCS)\n",
    "len(EspecificasJJN3)"
   ]
  },
  {
   "cell_type": "markdown",
   "metadata": {},
   "source": [
    "## Punto 5 y 6. Estudio sobre que estrategias son mejores para eliminar líneas de mieloma múltiple, y análisis de algunas de estas estrategias"
   ]
  },
  {
   "cell_type": "markdown",
   "metadata": {},
   "source": [
    "### Ahora, vamos a estudiar cuales podrían ser en teoría los mejores targets, para ellos vamos a cruzar las toxicidades específicas obtenidas para los diferentes modelos de tejido sano y los diferentes modelos de mieloma"
   ]
  },
  {
   "cell_type": "markdown",
   "metadata": {},
   "source": [
    "### Modelo de mieloma \"KMS20\""
   ]
  },
  {
   "cell_type": "markdown",
   "metadata": {},
   "source": [
    "Para eliminar a las células de mieloma, lo más sencillo es eliminar aquellos genes que no sean genéricos y actuen como targets de cada modelo de mieloma, que es lo que hemos realizado justo en el código anterior. Sin emabrgo, lo ideal es que dichos genes no solo no sean targets genéricos, si no que tampoco afecten a otros tejidos más concretos como en nuestro caso pueden ser la sangre, el hígado o los músculos."
   ]
  },
  {
   "cell_type": "code",
   "execution_count": 44,
   "metadata": {},
   "outputs": [
    {
     "data": {
      "text/plain": [
       "13"
      ]
     },
     "execution_count": 44,
     "metadata": {},
     "output_type": "execute_result"
    }
   ],
   "source": [
    "KMS20_Nivel_2 = KMS20gMCS.difference(humangMCS).difference(bloodgMCS)\n",
    "len(KMS20_Nivel_2)"
   ]
  },
  {
   "cell_type": "markdown",
   "metadata": {},
   "source": [
    "Vemos como se obtienen muchos menos genes cuando buscamos genes que tampoco afecten a la sangre."
   ]
  },
  {
   "cell_type": "markdown",
   "metadata": {},
   "source": [
    "Ahora vamos a comprobar si existe algun target el cual no afecte a ninguno de los 3 tejidos que hemos seleccionado para esta entrega, lo cual sería lo ideal, ya que podríamos eliminar las células de mieloma sin afectar a ninguno de nustros tejidos sanos."
   ]
  },
  {
   "cell_type": "code",
   "execution_count": 17,
   "metadata": {},
   "outputs": [
    {
     "data": {
      "text/plain": [
       "3"
      ]
     },
     "execution_count": 17,
     "metadata": {},
     "output_type": "execute_result"
    }
   ],
   "source": [
    "KMS20_Nivel_1 = KMS20gMCS.difference(humangMCS).difference(bloodgMCS).difference(musclegMCS).difference(livergMCS)\n",
    "len(KMS20_Nivel_1)"
   ]
  },
  {
   "cell_type": "code",
   "execution_count": 18,
   "metadata": {},
   "outputs": [
    {
     "data": {
      "text/plain": [
       "{'ENSG00000111726', 'ENSG00000137700', 'ENSG00000164414'}"
      ]
     },
     "execution_count": 18,
     "metadata": {},
     "output_type": "execute_result"
    }
   ],
   "source": [
    "KMS20_Nivel_1"
   ]
  },
  {
   "cell_type": "markdown",
   "metadata": {},
   "source": [
    "Vemos como hay 3 posibles genes: 'ENSG00000111726', 'ENSG00000137700' y 'ENSG00000164414'."
   ]
  },
  {
   "cell_type": "markdown",
   "metadata": {},
   "source": [
    "Para comprobar que estos genes realmente son targets, hacemos una simulación del modelo eliminando dichos genes:"
   ]
  },
  {
   "cell_type": "code",
   "execution_count": 28,
   "metadata": {},
   "outputs": [
    {
     "name": "stdout",
     "output_type": "stream",
     "text": [
      "ENSG00000164414 124.7607520981648 81.56232786610786 78.60304815473107 86.77338693646946 0.0\n",
      "ENSG00000111726 124.7607520981648 81.56232786610786 78.60304815473107 86.77338693646946 0.0\n"
     ]
    },
    {
     "ename": "KeyError",
     "evalue": "'ENSG00000137700'",
     "output_type": "error",
     "traceback": [
      "\u001b[0;31m---------------------------------------------------------------------------\u001b[0m",
      "\u001b[0;31mKeyError\u001b[0m                                  Traceback (most recent call last)",
      "\u001b[0;32m<ipython-input-28-110c58437e05>\u001b[0m in \u001b[0;36m<module>\u001b[0;34m\u001b[0m\n\u001b[1;32m      2\u001b[0m \u001b[0;34m\u001b[0m\u001b[0m\n\u001b[1;32m      3\u001b[0m     \u001b[0;32mwith\u001b[0m \u001b[0mmuscle\u001b[0m\u001b[0;34m:\u001b[0m\u001b[0;34m\u001b[0m\u001b[0;34m\u001b[0m\u001b[0m\n\u001b[0;32m----> 4\u001b[0;31m         \u001b[0mliver\u001b[0m\u001b[0;34m.\u001b[0m\u001b[0mgenes\u001b[0m\u001b[0;34m.\u001b[0m\u001b[0mget_by_id\u001b[0m\u001b[0;34m(\u001b[0m\u001b[0mg\u001b[0m\u001b[0;34m)\u001b[0m\u001b[0;34m.\u001b[0m\u001b[0mknock_out\u001b[0m\u001b[0;34m(\u001b[0m\u001b[0;34m)\u001b[0m\u001b[0;34m\u001b[0m\u001b[0;34m\u001b[0m\u001b[0m\n\u001b[0m\u001b[1;32m      5\u001b[0m         \u001b[0msol4\u001b[0m\u001b[0;34m=\u001b[0m\u001b[0mmuscle\u001b[0m\u001b[0;34m.\u001b[0m\u001b[0mslim_optimize\u001b[0m\u001b[0;34m(\u001b[0m\u001b[0;34m)\u001b[0m\u001b[0;34m\u001b[0m\u001b[0;34m\u001b[0m\u001b[0m\n\u001b[1;32m      6\u001b[0m     \u001b[0;32mwith\u001b[0m \u001b[0mKMS20\u001b[0m\u001b[0;34m:\u001b[0m\u001b[0;34m\u001b[0m\u001b[0;34m\u001b[0m\u001b[0m\n",
      "\u001b[0;32m/usr/local/lib/python3.6/site-packages/cobra/core/dictlist.py\u001b[0m in \u001b[0;36mget_by_id\u001b[0;34m(self, id)\u001b[0m\n\u001b[1;32m     56\u001b[0m     \u001b[0;32mdef\u001b[0m \u001b[0mget_by_id\u001b[0m\u001b[0;34m(\u001b[0m\u001b[0mself\u001b[0m\u001b[0;34m,\u001b[0m \u001b[0mid\u001b[0m\u001b[0;34m)\u001b[0m\u001b[0;34m:\u001b[0m\u001b[0;34m\u001b[0m\u001b[0;34m\u001b[0m\u001b[0m\n\u001b[1;32m     57\u001b[0m         \u001b[0;34m\"\"\"return the element with a matching id\"\"\"\u001b[0m\u001b[0;34m\u001b[0m\u001b[0;34m\u001b[0m\u001b[0m\n\u001b[0;32m---> 58\u001b[0;31m         \u001b[0;32mreturn\u001b[0m \u001b[0mlist\u001b[0m\u001b[0;34m.\u001b[0m\u001b[0m__getitem__\u001b[0m\u001b[0;34m(\u001b[0m\u001b[0mself\u001b[0m\u001b[0;34m,\u001b[0m \u001b[0mself\u001b[0m\u001b[0;34m.\u001b[0m\u001b[0m_dict\u001b[0m\u001b[0;34m[\u001b[0m\u001b[0mid\u001b[0m\u001b[0;34m]\u001b[0m\u001b[0;34m)\u001b[0m\u001b[0;34m\u001b[0m\u001b[0;34m\u001b[0m\u001b[0m\n\u001b[0m\u001b[1;32m     59\u001b[0m \u001b[0;34m\u001b[0m\u001b[0m\n\u001b[1;32m     60\u001b[0m     \u001b[0;32mdef\u001b[0m \u001b[0mlist_attr\u001b[0m\u001b[0;34m(\u001b[0m\u001b[0mself\u001b[0m\u001b[0;34m,\u001b[0m \u001b[0mattribute\u001b[0m\u001b[0;34m)\u001b[0m\u001b[0;34m:\u001b[0m\u001b[0;34m\u001b[0m\u001b[0;34m\u001b[0m\u001b[0m\n",
      "\u001b[0;31mKeyError\u001b[0m: 'ENSG00000137700'"
     ]
    }
   ],
   "source": [
    "for g in KMS20_Nivel_1:\n",
    "    with human:\n",
    "        human.genes.get_by_id(g).knock_out()\n",
    "        sol1=human.slim_optimize()\n",
    "    with blood:\n",
    "        blood.genes.get_by_id(g).knock_out()\n",
    "        sol2=blood.slim_optimize()\n",
    "    with liver:\n",
    "        liver.genes.get_by_id(g).knock_out()\n",
    "        sol3=liver.slim_optimize()\n",
    "    with muscle:\n",
    "        liver.genes.get_by_id(g).knock_out()\n",
    "        sol4=muscle.slim_optimize()\n",
    "    with KMS20:\n",
    "        KMS20.genes.get_by_id(g).knock_out()\n",
    "        sol5=KMS20.slim_optimize()\n",
    "    print(g,sol1,sol2,sol3,sol4,sol5)"
   ]
  },
  {
   "cell_type": "markdown",
   "metadata": {},
   "source": [
    "Vemos como en 2 de los casos, se puede apreciar claramente como el nivel de producción de biomasa en todos los tejidos es mayor que 0, excepto en el modelo de mieloma, donde la producción de biomasa es 0, lo que indica que estos genes si que son targets específicos de dicho mieloma y no afectan a nuestros tejidos."
   ]
  },
  {
   "cell_type": "markdown",
   "metadata": {},
   "source": [
    "Por otro lado, el error que se obtiene se debe a que el gen en concreto que da error (\"ENSG00000137700\") no está presente en alguno de los modelos de tejido que estamos utilizando, algo que puede ocurrir perfectamente."
   ]
  },
  {
   "cell_type": "markdown",
   "metadata": {},
   "source": [
    "### Modelo de mieloma \"HUNS1\""
   ]
  },
  {
   "cell_type": "code",
   "execution_count": 45,
   "metadata": {},
   "outputs": [
    {
     "data": {
      "text/plain": [
       "8"
      ]
     },
     "execution_count": 45,
     "metadata": {},
     "output_type": "execute_result"
    }
   ],
   "source": [
    "HUNS1_Nivel_2 = HUNS1gMCS.difference(humangMCS).difference(bloodgMCS)\n",
    "len(HUNS1_Nivel_2)"
   ]
  },
  {
   "cell_type": "code",
   "execution_count": 18,
   "metadata": {},
   "outputs": [
    {
     "data": {
      "text/plain": [
       "5"
      ]
     },
     "execution_count": 18,
     "metadata": {},
     "output_type": "execute_result"
    }
   ],
   "source": [
    "HUNS1_Nivel_1 = HUNS1gMCS.difference(humangMCS).difference(bloodgMCS).difference(musclegMCS).difference(livergMCS)\n",
    "len(HUNS1_Nivel_1)"
   ]
  },
  {
   "cell_type": "code",
   "execution_count": 19,
   "metadata": {},
   "outputs": [
    {
     "data": {
      "text/plain": [
       "{'ENSG00000134184',\n",
       " 'ENSG00000135437',\n",
       " 'ENSG00000137700',\n",
       " 'ENSG00000156136',\n",
       " 'ENSG00000173614'}"
      ]
     },
     "execution_count": 19,
     "metadata": {},
     "output_type": "execute_result"
    }
   ],
   "source": [
    "HUNS1_Nivel_1"
   ]
  },
  {
   "cell_type": "markdown",
   "metadata": {},
   "source": [
    "En el caso del modelo de mieloma \"HUNS1\", hay 5 genes los cuales pueden servirnos como targets y no afectarían a ninguno de los 3 tejidos que hemos seleccionado, además de claro está no afectar a ninguno de los genes genéricos. Estos genes son: 'ENSG00000134184', 'ENSG00000135437', 'ENSG00000137700', 'ENSG00000156136' y 'ENSG00000173614'."
   ]
  },
  {
   "cell_type": "code",
   "execution_count": 29,
   "metadata": {},
   "outputs": [
    {
     "name": "stdout",
     "output_type": "stream",
     "text": [
      "ENSG00000135437 124.7607520981648 81.56232786610786 78.60304815473107 86.77338693646946 0.0\n",
      "ENSG00000173614 124.7607520981648 81.56232786610786 78.60304815473106 86.77338693646946 0.0\n",
      "ENSG00000156136 124.7607520981648 81.56232786610786 78.60304815473106 86.77338693646946 0.0\n",
      "ENSG00000134184 124.7607520981648 81.56232786610786 0.0 86.77338693646946 0.0\n"
     ]
    },
    {
     "ename": "KeyError",
     "evalue": "'ENSG00000137700'",
     "output_type": "error",
     "traceback": [
      "\u001b[0;31m---------------------------------------------------------------------------\u001b[0m",
      "\u001b[0;31mKeyError\u001b[0m                                  Traceback (most recent call last)",
      "\u001b[0;32m<ipython-input-29-86432c7e1023>\u001b[0m in \u001b[0;36m<module>\u001b[0;34m\u001b[0m\n\u001b[1;32m      1\u001b[0m \u001b[0;32mfor\u001b[0m \u001b[0mg\u001b[0m \u001b[0;32min\u001b[0m \u001b[0mHUNS1_Nivel_1\u001b[0m\u001b[0;34m:\u001b[0m\u001b[0;34m\u001b[0m\u001b[0;34m\u001b[0m\u001b[0m\n\u001b[1;32m      2\u001b[0m     \u001b[0;32mwith\u001b[0m \u001b[0mhuman\u001b[0m\u001b[0;34m:\u001b[0m\u001b[0;34m\u001b[0m\u001b[0;34m\u001b[0m\u001b[0m\n\u001b[0;32m----> 3\u001b[0;31m         \u001b[0mhuman\u001b[0m\u001b[0;34m.\u001b[0m\u001b[0mgenes\u001b[0m\u001b[0;34m.\u001b[0m\u001b[0mget_by_id\u001b[0m\u001b[0;34m(\u001b[0m\u001b[0mg\u001b[0m\u001b[0;34m)\u001b[0m\u001b[0;34m.\u001b[0m\u001b[0mknock_out\u001b[0m\u001b[0;34m(\u001b[0m\u001b[0;34m)\u001b[0m\u001b[0;34m\u001b[0m\u001b[0;34m\u001b[0m\u001b[0m\n\u001b[0m\u001b[1;32m      4\u001b[0m         \u001b[0msol1\u001b[0m\u001b[0;34m=\u001b[0m\u001b[0mhuman\u001b[0m\u001b[0;34m.\u001b[0m\u001b[0mslim_optimize\u001b[0m\u001b[0;34m(\u001b[0m\u001b[0;34m)\u001b[0m\u001b[0;34m\u001b[0m\u001b[0;34m\u001b[0m\u001b[0m\n\u001b[1;32m      5\u001b[0m     \u001b[0;32mwith\u001b[0m \u001b[0mblood\u001b[0m\u001b[0;34m:\u001b[0m\u001b[0;34m\u001b[0m\u001b[0;34m\u001b[0m\u001b[0m\n",
      "\u001b[0;32m/usr/local/lib/python3.6/site-packages/cobra/core/dictlist.py\u001b[0m in \u001b[0;36mget_by_id\u001b[0;34m(self, id)\u001b[0m\n\u001b[1;32m     56\u001b[0m     \u001b[0;32mdef\u001b[0m \u001b[0mget_by_id\u001b[0m\u001b[0;34m(\u001b[0m\u001b[0mself\u001b[0m\u001b[0;34m,\u001b[0m \u001b[0mid\u001b[0m\u001b[0;34m)\u001b[0m\u001b[0;34m:\u001b[0m\u001b[0;34m\u001b[0m\u001b[0;34m\u001b[0m\u001b[0m\n\u001b[1;32m     57\u001b[0m         \u001b[0;34m\"\"\"return the element with a matching id\"\"\"\u001b[0m\u001b[0;34m\u001b[0m\u001b[0;34m\u001b[0m\u001b[0m\n\u001b[0;32m---> 58\u001b[0;31m         \u001b[0;32mreturn\u001b[0m \u001b[0mlist\u001b[0m\u001b[0;34m.\u001b[0m\u001b[0m__getitem__\u001b[0m\u001b[0;34m(\u001b[0m\u001b[0mself\u001b[0m\u001b[0;34m,\u001b[0m \u001b[0mself\u001b[0m\u001b[0;34m.\u001b[0m\u001b[0m_dict\u001b[0m\u001b[0;34m[\u001b[0m\u001b[0mid\u001b[0m\u001b[0;34m]\u001b[0m\u001b[0;34m)\u001b[0m\u001b[0;34m\u001b[0m\u001b[0;34m\u001b[0m\u001b[0m\n\u001b[0m\u001b[1;32m     59\u001b[0m \u001b[0;34m\u001b[0m\u001b[0m\n\u001b[1;32m     60\u001b[0m     \u001b[0;32mdef\u001b[0m \u001b[0mlist_attr\u001b[0m\u001b[0;34m(\u001b[0m\u001b[0mself\u001b[0m\u001b[0;34m,\u001b[0m \u001b[0mattribute\u001b[0m\u001b[0;34m)\u001b[0m\u001b[0;34m:\u001b[0m\u001b[0;34m\u001b[0m\u001b[0;34m\u001b[0m\u001b[0m\n",
      "\u001b[0;31mKeyError\u001b[0m: 'ENSG00000137700'"
     ]
    }
   ],
   "source": [
    "for g in HUNS1_Nivel_1:\n",
    "    with human:\n",
    "        human.genes.get_by_id(g).knock_out()\n",
    "        sol1=human.slim_optimize()\n",
    "    with blood:\n",
    "        blood.genes.get_by_id(g).knock_out()\n",
    "        sol2=blood.slim_optimize()\n",
    "    with liver:\n",
    "        liver.genes.get_by_id(g).knock_out()\n",
    "        sol3=liver.slim_optimize()\n",
    "    with muscle:\n",
    "        liver.genes.get_by_id(g).knock_out()\n",
    "        sol4=muscle.slim_optimize()\n",
    "    with HUNS1:\n",
    "        HUNS1.genes.get_by_id(g).knock_out()\n",
    "        sol5=HUNS1.slim_optimize()\n",
    "    print(g,sol1,sol2,sol3,sol4,sol5)"
   ]
  },
  {
   "cell_type": "markdown",
   "metadata": {},
   "source": [
    "### Modelo de mieloma \"JJN3\""
   ]
  },
  {
   "cell_type": "code",
   "execution_count": 46,
   "metadata": {},
   "outputs": [
    {
     "data": {
      "text/plain": [
       "5"
      ]
     },
     "execution_count": 46,
     "metadata": {},
     "output_type": "execute_result"
    }
   ],
   "source": [
    "JJN3_Nivel_2 = JJN3gMCS.difference(humangMCS).difference(bloodgMCS)\n",
    "len(JJN3_Nivel_2)"
   ]
  },
  {
   "cell_type": "code",
   "execution_count": 20,
   "metadata": {},
   "outputs": [
    {
     "data": {
      "text/plain": [
       "2"
      ]
     },
     "execution_count": 20,
     "metadata": {},
     "output_type": "execute_result"
    }
   ],
   "source": [
    "JJN3_Nivel_1 = JJN3gMCS.difference(humangMCS).difference(bloodgMCS).difference(musclegMCS).difference(livergMCS)\n",
    "len(JJN3_Nivel_1)"
   ]
  },
  {
   "cell_type": "code",
   "execution_count": 21,
   "metadata": {},
   "outputs": [
    {
     "data": {
      "text/plain": [
       "{'ENSG00000137700', 'ENSG00000156136'}"
      ]
     },
     "execution_count": 21,
     "metadata": {},
     "output_type": "execute_result"
    }
   ],
   "source": [
    "JJN3_Nivel_1"
   ]
  },
  {
   "cell_type": "markdown",
   "metadata": {},
   "source": [
    "En el caso del modelo de mieloma \"JJN3\" tan solo 2 genes podrían actuar como targets específicos sin afectar a ninguno de nuestros tejidos de interés. Dichos genes serían: 'ENSG00000137700' y 'ENSG00000156136'."
   ]
  },
  {
   "cell_type": "code",
   "execution_count": 30,
   "metadata": {},
   "outputs": [
    {
     "name": "stdout",
     "output_type": "stream",
     "text": [
      "ENSG00000156136 124.7607520981648 81.56232786610786 0.0 86.77338693646946 0.0\n"
     ]
    },
    {
     "ename": "KeyError",
     "evalue": "'ENSG00000137700'",
     "output_type": "error",
     "traceback": [
      "\u001b[0;31m---------------------------------------------------------------------------\u001b[0m",
      "\u001b[0;31mKeyError\u001b[0m                                  Traceback (most recent call last)",
      "\u001b[0;32m<ipython-input-30-aca9b3070ab2>\u001b[0m in \u001b[0;36m<module>\u001b[0;34m\u001b[0m\n\u001b[1;32m      1\u001b[0m \u001b[0;32mfor\u001b[0m \u001b[0mg\u001b[0m \u001b[0;32min\u001b[0m \u001b[0mJJN3_Nivel_1\u001b[0m\u001b[0;34m:\u001b[0m\u001b[0;34m\u001b[0m\u001b[0;34m\u001b[0m\u001b[0m\n\u001b[1;32m      2\u001b[0m     \u001b[0;32mwith\u001b[0m \u001b[0mhuman\u001b[0m\u001b[0;34m:\u001b[0m\u001b[0;34m\u001b[0m\u001b[0;34m\u001b[0m\u001b[0m\n\u001b[0;32m----> 3\u001b[0;31m         \u001b[0mhuman\u001b[0m\u001b[0;34m.\u001b[0m\u001b[0mgenes\u001b[0m\u001b[0;34m.\u001b[0m\u001b[0mget_by_id\u001b[0m\u001b[0;34m(\u001b[0m\u001b[0mg\u001b[0m\u001b[0;34m)\u001b[0m\u001b[0;34m.\u001b[0m\u001b[0mknock_out\u001b[0m\u001b[0;34m(\u001b[0m\u001b[0;34m)\u001b[0m\u001b[0;34m\u001b[0m\u001b[0;34m\u001b[0m\u001b[0m\n\u001b[0m\u001b[1;32m      4\u001b[0m         \u001b[0msol1\u001b[0m\u001b[0;34m=\u001b[0m\u001b[0mhuman\u001b[0m\u001b[0;34m.\u001b[0m\u001b[0mslim_optimize\u001b[0m\u001b[0;34m(\u001b[0m\u001b[0;34m)\u001b[0m\u001b[0;34m\u001b[0m\u001b[0;34m\u001b[0m\u001b[0m\n\u001b[1;32m      5\u001b[0m     \u001b[0;32mwith\u001b[0m \u001b[0mblood\u001b[0m\u001b[0;34m:\u001b[0m\u001b[0;34m\u001b[0m\u001b[0;34m\u001b[0m\u001b[0m\n",
      "\u001b[0;32m/usr/local/lib/python3.6/site-packages/cobra/core/dictlist.py\u001b[0m in \u001b[0;36mget_by_id\u001b[0;34m(self, id)\u001b[0m\n\u001b[1;32m     56\u001b[0m     \u001b[0;32mdef\u001b[0m \u001b[0mget_by_id\u001b[0m\u001b[0;34m(\u001b[0m\u001b[0mself\u001b[0m\u001b[0;34m,\u001b[0m \u001b[0mid\u001b[0m\u001b[0;34m)\u001b[0m\u001b[0;34m:\u001b[0m\u001b[0;34m\u001b[0m\u001b[0;34m\u001b[0m\u001b[0m\n\u001b[1;32m     57\u001b[0m         \u001b[0;34m\"\"\"return the element with a matching id\"\"\"\u001b[0m\u001b[0;34m\u001b[0m\u001b[0;34m\u001b[0m\u001b[0m\n\u001b[0;32m---> 58\u001b[0;31m         \u001b[0;32mreturn\u001b[0m \u001b[0mlist\u001b[0m\u001b[0;34m.\u001b[0m\u001b[0m__getitem__\u001b[0m\u001b[0;34m(\u001b[0m\u001b[0mself\u001b[0m\u001b[0;34m,\u001b[0m \u001b[0mself\u001b[0m\u001b[0;34m.\u001b[0m\u001b[0m_dict\u001b[0m\u001b[0;34m[\u001b[0m\u001b[0mid\u001b[0m\u001b[0;34m]\u001b[0m\u001b[0;34m)\u001b[0m\u001b[0;34m\u001b[0m\u001b[0;34m\u001b[0m\u001b[0m\n\u001b[0m\u001b[1;32m     59\u001b[0m \u001b[0;34m\u001b[0m\u001b[0m\n\u001b[1;32m     60\u001b[0m     \u001b[0;32mdef\u001b[0m \u001b[0mlist_attr\u001b[0m\u001b[0;34m(\u001b[0m\u001b[0mself\u001b[0m\u001b[0;34m,\u001b[0m \u001b[0mattribute\u001b[0m\u001b[0;34m)\u001b[0m\u001b[0;34m:\u001b[0m\u001b[0;34m\u001b[0m\u001b[0;34m\u001b[0m\u001b[0m\n",
      "\u001b[0;31mKeyError\u001b[0m: 'ENSG00000137700'"
     ]
    }
   ],
   "source": [
    "for g in JJN3_Nivel_1:\n",
    "    with human:\n",
    "        human.genes.get_by_id(g).knock_out()\n",
    "        sol1=human.slim_optimize()\n",
    "    with blood:\n",
    "        blood.genes.get_by_id(g).knock_out()\n",
    "        sol2=blood.slim_optimize()\n",
    "    with liver:\n",
    "        liver.genes.get_by_id(g).knock_out()\n",
    "        sol3=liver.slim_optimize()\n",
    "    with muscle:\n",
    "        liver.genes.get_by_id(g).knock_out()\n",
    "        sol4=muscle.slim_optimize()\n",
    "    with JJN3:\n",
    "        JJN3.genes.get_by_id(g).knock_out()\n",
    "        sol5=JJN3.slim_optimize()\n",
    "    print(g,sol1,sol2,sol3,sol4,sol5)"
   ]
  },
  {
   "cell_type": "markdown",
   "metadata": {},
   "source": [
    "**Una vez analizado cada modelo de mieloma por separado, vamos a comprobar si alguno de los targets obtenidos en cada mieloma es común para todos los modelos de mieloma con los que estamos trabajando**"
   ]
  },
  {
   "cell_type": "code",
   "execution_count": 32,
   "metadata": {},
   "outputs": [
    {
     "name": "stdout",
     "output_type": "stream",
     "text": [
      "{'ENSG00000137700'}\n"
     ]
    }
   ],
   "source": [
    "targets_comunes = KMS20_Nivel_1.intersection(HUNS1_Nivel_1).intersection(JJN3_Nivel_1)\n",
    "print(targets_comunes)"
   ]
  },
  {
   "cell_type": "markdown",
   "metadata": {},
   "source": [
    "**Haciendo la intersección entre los 3 sets, descubrimos que hay 1 gen el cual actua como target genético en los 3 modelos de mieloma que estamos estudiando, el gen \"ENSG00000137700\". Si buscamos dicho gen en los modelos de mieloma que tenemos:**"
   ]
  },
  {
   "cell_type": "code",
   "execution_count": 48,
   "metadata": {},
   "outputs": [
    {
     "data": {
      "text/html": [
       "\n",
       "        <table>\n",
       "            <tr>\n",
       "                <td><strong>Gene identifier</strong></td><td>ENSG00000137700</td>\n",
       "            </tr><tr>\n",
       "                <td><strong>Name</strong></td><td></td>\n",
       "            </tr><tr>\n",
       "                <td><strong>Memory address</strong></td>\n",
       "                <td>0x07fe1379d2160</td>\n",
       "            </tr><tr>\n",
       "                <td><strong>Functional</strong></td><td>True</td>\n",
       "            </tr><tr>\n",
       "                <td><strong>In 3 reaction(s)</strong></td><td>\n",
       "                    MAR01621, MAR06386, MAR04856</td>\n",
       "            </tr>\n",
       "        </table>"
      ],
      "text/plain": [
       "<Gene ENSG00000137700 at 0x7fe1379d2160>"
      ]
     },
     "execution_count": 48,
     "metadata": {},
     "output_type": "execute_result"
    }
   ],
   "source": [
    "KMS20.genes.ENSG00000137700"
   ]
  },
  {
   "cell_type": "markdown",
   "metadata": {},
   "source": [
    "**Vemos como no nos dan mucha información acerca del gen aparte de que participa en 3 reacciones. Vamos a ver que reacciones son estas**"
   ]
  },
  {
   "cell_type": "code",
   "execution_count": 13,
   "metadata": {},
   "outputs": [
    {
     "data": {
      "text/html": [
       "\n",
       "        <table>\n",
       "            <tr>\n",
       "                <td><strong>Reaction identifier</strong></td><td>MAR01621</td>\n",
       "            </tr><tr>\n",
       "                <td><strong>Name</strong></td><td>Phosphate Transport, Endoplasmic Reticulum</td>\n",
       "            </tr><tr>\n",
       "                <td><strong>Memory address</strong></td>\n",
       "                <td>0x07fc5f6ec2e10</td>\n",
       "            </tr><tr>\n",
       "                <td><strong>Stoichiometry</strong></td>\n",
       "                <td>\n",
       "                    <p style='text-align:right'>MAM02751r[r] <=> MAM02751c[c]</p>\n",
       "                    <p style='text-align:right'>Pi [Endoplasmic reticulum] <=> Pi [Cytosol]</p>\n",
       "                </td>\n",
       "            </tr><tr>\n",
       "                <td><strong>GPR</strong></td><td>ENSG00000137700</td>\n",
       "            </tr><tr>\n",
       "                <td><strong>Lower bound</strong></td><td>-1000.0</td>\n",
       "            </tr><tr>\n",
       "                <td><strong>Upper bound</strong></td><td>1000.0</td>\n",
       "            </tr>\n",
       "        </table>\n",
       "        "
      ],
      "text/plain": [
       "<Reaction MAR01621 at 0x7fc5f6ec2e10>"
      ]
     },
     "execution_count": 13,
     "metadata": {},
     "output_type": "execute_result"
    }
   ],
   "source": [
    "HUNS1.reactions.MAR01621"
   ]
  },
  {
   "cell_type": "code",
   "execution_count": 50,
   "metadata": {},
   "outputs": [
    {
     "data": {
      "text/html": [
       "\n",
       "        <table>\n",
       "            <tr>\n",
       "                <td><strong>Reaction identifier</strong></td><td>MAR06386</td>\n",
       "            </tr><tr>\n",
       "                <td><strong>Name</strong></td><td></td>\n",
       "            </tr><tr>\n",
       "                <td><strong>Memory address</strong></td>\n",
       "                <td>0x07fe14333ae10</td>\n",
       "            </tr><tr>\n",
       "                <td><strong>Stoichiometry</strong></td>\n",
       "                <td>\n",
       "                    <p style='text-align:right'>MAM01968c[c] + MAM02751r[r] --> MAM01968r[r] + MAM02751c[c]</p>\n",
       "                    <p style='text-align:right'>glucose-6-phosphate [Cytosol] + Pi [Endoplasmic reticulum] --> glucose-6-phosphate [Endoplasmic reticulum] + Pi [Cytosol]</p>\n",
       "                </td>\n",
       "            </tr><tr>\n",
       "                <td><strong>GPR</strong></td><td>ENSG00000137700</td>\n",
       "            </tr><tr>\n",
       "                <td><strong>Lower bound</strong></td><td>0.0</td>\n",
       "            </tr><tr>\n",
       "                <td><strong>Upper bound</strong></td><td>1000.0</td>\n",
       "            </tr>\n",
       "        </table>\n",
       "        "
      ],
      "text/plain": [
       "<Reaction MAR06386 at 0x7fe14333ae10>"
      ]
     },
     "execution_count": 50,
     "metadata": {},
     "output_type": "execute_result"
    }
   ],
   "source": [
    "KMS20.reactions.MAR06386"
   ]
  },
  {
   "cell_type": "code",
   "execution_count": 51,
   "metadata": {},
   "outputs": [
    {
     "data": {
      "text/html": [
       "\n",
       "        <table>\n",
       "            <tr>\n",
       "                <td><strong>Reaction identifier</strong></td><td>MAR04856</td>\n",
       "            </tr><tr>\n",
       "                <td><strong>Name</strong></td><td>alpha-D-Glucose 6-phosphate ketol-isomerase</td>\n",
       "            </tr><tr>\n",
       "                <td><strong>Memory address</strong></td>\n",
       "                <td>0x07fe14333a240</td>\n",
       "            </tr><tr>\n",
       "                <td><strong>Stoichiometry</strong></td>\n",
       "                <td>\n",
       "                    <p style='text-align:right'>MAM01968c[c] <=> MAM01968r[r]</p>\n",
       "                    <p style='text-align:right'>glucose-6-phosphate [Cytosol] <=> glucose-6-phosphate [Endoplasmic reticulum]</p>\n",
       "                </td>\n",
       "            </tr><tr>\n",
       "                <td><strong>GPR</strong></td><td>ENSG00000105220 or ENSG00000137700</td>\n",
       "            </tr><tr>\n",
       "                <td><strong>Lower bound</strong></td><td>-1000.0</td>\n",
       "            </tr><tr>\n",
       "                <td><strong>Upper bound</strong></td><td>1000.0</td>\n",
       "            </tr>\n",
       "        </table>\n",
       "        "
      ],
      "text/plain": [
       "<Reaction MAR04856 at 0x7fe14333a240>"
      ]
     },
     "execution_count": 51,
     "metadata": {},
     "output_type": "execute_result"
    }
   ],
   "source": [
    "KMS20.reactions.MAR04856"
   ]
  },
  {
   "cell_type": "markdown",
   "metadata": {},
   "source": [
    "**Analizando las 3 reacciones en las que participa este gen, vemos como se trata de 2 reacciones principalmente:**\n",
    "- Transporte de Fosfato (Pi) desde el Retículo Endoplasmático al Citosol\n",
    "- Transporte de Glucosa-6-Fosafato desde el Citosol al Retículo Endoplasmático "
   ]
  },
  {
   "cell_type": "markdown",
   "metadata": {},
   "source": [
    "**Vamos a comprobar que el gen \"ENSG00000137700\" es un target común para las 3 líneas de mieloma**"
   ]
  },
  {
   "cell_type": "code",
   "execution_count": 58,
   "metadata": {},
   "outputs": [
    {
     "name": "stdout",
     "output_type": "stream",
     "text": [
      "ENSG00000137700 0.0 0.0 0.0\n"
     ]
    }
   ],
   "source": [
    "target = \"ENSG00000137700\"\n",
    "with JJN3:\n",
    "    JJN3.genes.get_by_id(target).knock_out()\n",
    "    sol1=JJN3.slim_optimize()\n",
    "with KMS20:\n",
    "    KMS20.genes.get_by_id(target).knock_out()\n",
    "    sol2=KMS20.slim_optimize()\n",
    "with HUNS1:\n",
    "    HUNS1.genes.get_by_id(target).knock_out()\n",
    "    sol3=HUNS1.slim_optimize()\n",
    "print(target,sol1,sol2,sol3)"
   ]
  },
  {
   "cell_type": "markdown",
   "metadata": {},
   "source": [
    "Vemos como la producción de Biomasa en los 3 modelos de mieloma es igual a 0, lo que significa que eliminando este gen, se podrían eliminar las células de los 3 tipos de mieloma que estamos estudiando en este caso."
   ]
  },
  {
   "cell_type": "markdown",
   "metadata": {},
   "source": [
    "**Si comparamos los modelos de mieloma por parejas:**"
   ]
  },
  {
   "cell_type": "code",
   "execution_count": 33,
   "metadata": {
    "scrolled": true
   },
   "outputs": [
    {
     "name": "stdout",
     "output_type": "stream",
     "text": [
      "{'ENSG00000137700'}\n",
      "{'ENSG00000137700'}\n",
      "{'ENSG00000156136', 'ENSG00000137700'}\n"
     ]
    }
   ],
   "source": [
    "targets_comunes_KMS20_HUNS1 = KMS20_Nivel_1.intersection(HUNS1_Nivel_1)\n",
    "targets_comunes_KMS20_JJN3 = KMS20_Nivel_1.intersection(JJN3_Nivel_1)\n",
    "targets_comunes_HUNS1_JJN3 = HUNS1_Nivel_1.intersection(JJN3_Nivel_1)\n",
    "print(targets_comunes_KMS20_HUNS1)\n",
    "print(targets_comunes_KMS20_JJN3)\n",
    "print(targets_comunes_HUNS1_JJN3)"
   ]
  },
  {
   "cell_type": "markdown",
   "metadata": {},
   "source": [
    "**Podemos observar como solo en el caso de los modelos \"HUNS1\" y \"JJN3\" hay un target común diferente al obtenido anteriormente, que es el gen \"ENSG00000156136\".**"
   ]
  },
  {
   "cell_type": "code",
   "execution_count": 41,
   "metadata": {
    "scrolled": true
   },
   "outputs": [
    {
     "data": {
      "text/html": [
       "\n",
       "        <table>\n",
       "            <tr>\n",
       "                <td><strong>Gene identifier</strong></td><td>ENSG00000156136</td>\n",
       "            </tr><tr>\n",
       "                <td><strong>Name</strong></td><td></td>\n",
       "            </tr><tr>\n",
       "                <td><strong>Memory address</strong></td>\n",
       "                <td>0x07fe12e19b4a8</td>\n",
       "            </tr><tr>\n",
       "                <td><strong>Functional</strong></td><td>True</td>\n",
       "            </tr><tr>\n",
       "                <td><strong>In 6 reaction(s)</strong></td><td>\n",
       "                    MAR08479, MAR04083, MAR08478, MAR08477, MAR04012, MAR04513</td>\n",
       "            </tr>\n",
       "        </table>"
      ],
      "text/plain": [
       "<Gene ENSG00000156136 at 0x7fe12e19b4a8>"
      ]
     },
     "execution_count": 41,
     "metadata": {},
     "output_type": "execute_result"
    }
   ],
   "source": [
    "JJN3.genes.ENSG00000156136"
   ]
  },
  {
   "cell_type": "code",
   "execution_count": 14,
   "metadata": {},
   "outputs": [
    {
     "data": {
      "text/html": [
       "\n",
       "        <table>\n",
       "            <tr>\n",
       "                <td><strong>Reaction identifier</strong></td><td>MAR08479</td>\n",
       "            </tr><tr>\n",
       "                <td><strong>Name</strong></td><td></td>\n",
       "            </tr><tr>\n",
       "                <td><strong>Memory address</strong></td>\n",
       "                <td>0x07fc5fa082c88</td>\n",
       "            </tr><tr>\n",
       "                <td><strong>Stoichiometry</strong></td>\n",
       "                <td>\n",
       "                    <p style='text-align:right'>MAM01644n[n] + MAM02039n[n] + MAM03106n[n] <=> MAM01668n[n] + MAM03130n[n]</p>\n",
       "                    <p style='text-align:right'>dCMP [Nucleus] + H+ [Nucleus] + UDP [Nucleus] <=> deoxycytidine [Nucleus] + UTP [Nucleus]</p>\n",
       "                </td>\n",
       "            </tr><tr>\n",
       "                <td><strong>GPR</strong></td><td>ENSG00000156136</td>\n",
       "            </tr><tr>\n",
       "                <td><strong>Lower bound</strong></td><td>-1000.0</td>\n",
       "            </tr><tr>\n",
       "                <td><strong>Upper bound</strong></td><td>1000.0</td>\n",
       "            </tr>\n",
       "        </table>\n",
       "        "
      ],
      "text/plain": [
       "<Reaction MAR08479 at 0x7fc5fa082c88>"
      ]
     },
     "execution_count": 14,
     "metadata": {},
     "output_type": "execute_result"
    }
   ],
   "source": [
    "JJN3.reactions.MAR08479"
   ]
  },
  {
   "cell_type": "code",
   "execution_count": 15,
   "metadata": {},
   "outputs": [
    {
     "data": {
      "text/html": [
       "\n",
       "        <table>\n",
       "            <tr>\n",
       "                <td><strong>Reaction identifier</strong></td><td>MAR04083</td>\n",
       "            </tr><tr>\n",
       "                <td><strong>Name</strong></td><td>ATP:adenosine 5'-phosphotransferase</td>\n",
       "            </tr><tr>\n",
       "                <td><strong>Memory address</strong></td>\n",
       "                <td>0x07fc5fa2e3b38</td>\n",
       "            </tr><tr>\n",
       "                <td><strong>Stoichiometry</strong></td>\n",
       "                <td>\n",
       "                    <p style='text-align:right'>MAM01280m[m] + MAM01371m[m] --> MAM01285m[m] + MAM01334m[m] + MAM02039m[m]</p>\n",
       "                    <p style='text-align:right'>adenosine [Mitochondria] + ATP [Mitochondria] --> ADP [Mitochondria] + AMP [Mitochondria] + H+ [Mitochondria]</p>\n",
       "                </td>\n",
       "            </tr><tr>\n",
       "                <td><strong>GPR</strong></td><td>ENSG00000156110 or ENSG00000156136</td>\n",
       "            </tr><tr>\n",
       "                <td><strong>Lower bound</strong></td><td>0.0</td>\n",
       "            </tr><tr>\n",
       "                <td><strong>Upper bound</strong></td><td>1000.0</td>\n",
       "            </tr>\n",
       "        </table>\n",
       "        "
      ],
      "text/plain": [
       "<Reaction MAR04083 at 0x7fc5fa2e3b38>"
      ]
     },
     "execution_count": 15,
     "metadata": {},
     "output_type": "execute_result"
    }
   ],
   "source": [
    "JJN3.reactions.MAR04083"
   ]
  },
  {
   "cell_type": "code",
   "execution_count": 16,
   "metadata": {},
   "outputs": [
    {
     "name": "stdout",
     "output_type": "stream",
     "text": [
      "ENSG00000156136 0.0 0.0\n"
     ]
    }
   ],
   "source": [
    "target = \"ENSG00000156136\"\n",
    "with JJN3:\n",
    "    JJN3.genes.get_by_id(target).knock_out()\n",
    "    sol1=JJN3.slim_optimize()\n",
    "with HUNS1:\n",
    "    HUNS1.genes.get_by_id(target).knock_out()\n",
    "    sol2=HUNS1.slim_optimize()\n",
    "print(target,sol1,sol2)"
   ]
  },
  {
   "cell_type": "markdown",
   "metadata": {},
   "source": [
    "**Finalmente, estudiamos un target específico para la línea de mieloma \"KMS20\"**"
   ]
  },
  {
   "cell_type": "markdown",
   "metadata": {},
   "source": [
    "Si recordamos, los targets específicos para este tipo de mieloma, y que no afectaban a ninguno de los tejidos sanos eran los siguientes:"
   ]
  },
  {
   "cell_type": "code",
   "execution_count": 19,
   "metadata": {},
   "outputs": [
    {
     "data": {
      "text/plain": [
       "{'ENSG00000111726', 'ENSG00000137700', 'ENSG00000164414'}"
      ]
     },
     "execution_count": 19,
     "metadata": {},
     "output_type": "execute_result"
    }
   ],
   "source": [
    "KMS20_Nivel_1"
   ]
  },
  {
   "cell_type": "markdown",
   "metadata": {},
   "source": [
    "Sin tener en cuenta el gen \"ENSG00000137700\", que ya ha sido estudiado, quedan solamente 2 targets posibles: ENSG00000111726 y ENSG00000164414.\n",
    "\n",
    "**En este caso, vamos a analizar el gen \"ENSG00000164414\"**"
   ]
  },
  {
   "cell_type": "code",
   "execution_count": 21,
   "metadata": {
    "scrolled": true
   },
   "outputs": [
    {
     "data": {
      "text/html": [
       "\n",
       "        <table>\n",
       "            <tr>\n",
       "                <td><strong>Gene identifier</strong></td><td>ENSG00000164414</td>\n",
       "            </tr><tr>\n",
       "                <td><strong>Name</strong></td><td></td>\n",
       "            </tr><tr>\n",
       "                <td><strong>Memory address</strong></td>\n",
       "                <td>0x07fc5ffa712e8</td>\n",
       "            </tr><tr>\n",
       "                <td><strong>Functional</strong></td><td>True</td>\n",
       "            </tr><tr>\n",
       "                <td><strong>In 2 reaction(s)</strong></td><td>\n",
       "                    MAR07693, MAR04535</td>\n",
       "            </tr>\n",
       "        </table>"
      ],
      "text/plain": [
       "<Gene ENSG00000164414 at 0x7fc5ffa712e8>"
      ]
     },
     "execution_count": 21,
     "metadata": {},
     "output_type": "execute_result"
    }
   ],
   "source": [
    "KMS20.genes.ENSG00000164414"
   ]
  },
  {
   "cell_type": "code",
   "execution_count": 28,
   "metadata": {},
   "outputs": [
    {
     "data": {
      "text/html": [
       "\n",
       "        <table>\n",
       "            <tr>\n",
       "                <td><strong>Reaction identifier</strong></td><td>MAR07693</td>\n",
       "            </tr><tr>\n",
       "                <td><strong>Name</strong></td><td></td>\n",
       "            </tr><tr>\n",
       "                <td><strong>Memory address</strong></td>\n",
       "                <td>0x07fc5fa04f2b0</td>\n",
       "            </tr><tr>\n",
       "                <td><strong>Stoichiometry</strong></td>\n",
       "                <td>\n",
       "                    <p style='text-align:right'>MAM01590g[g] + MAM01592c[c] <=> MAM01590c[c] + MAM01592g[g]</p>\n",
       "                    <p style='text-align:right'>CMP [Golgi apparatus] + CMP-N-acetylneuraminate [Cytosol] <=> CMP [Cytosol] + CMP-N-acetylneuraminate [Golgi apparatus]</p>\n",
       "                </td>\n",
       "            </tr><tr>\n",
       "                <td><strong>GPR</strong></td><td>ENSG00000164414</td>\n",
       "            </tr><tr>\n",
       "                <td><strong>Lower bound</strong></td><td>-1000.0</td>\n",
       "            </tr><tr>\n",
       "                <td><strong>Upper bound</strong></td><td>1000.0</td>\n",
       "            </tr>\n",
       "        </table>\n",
       "        "
      ],
      "text/plain": [
       "<Reaction MAR07693 at 0x7fc5fa04f2b0>"
      ]
     },
     "execution_count": 28,
     "metadata": {},
     "output_type": "execute_result"
    }
   ],
   "source": [
    "KMS20.reactions.MAR07693"
   ]
  },
  {
   "cell_type": "code",
   "execution_count": 29,
   "metadata": {},
   "outputs": [
    {
     "data": {
      "text/html": [
       "\n",
       "        <table>\n",
       "            <tr>\n",
       "                <td><strong>Reaction identifier</strong></td><td>MAR04535</td>\n",
       "            </tr><tr>\n",
       "                <td><strong>Name</strong></td><td></td>\n",
       "            </tr><tr>\n",
       "                <td><strong>Memory address</strong></td>\n",
       "                <td>0x07fc5fa0e5b70</td>\n",
       "            </tr><tr>\n",
       "                <td><strong>Stoichiometry</strong></td>\n",
       "                <td>\n",
       "                    <p style='text-align:right'>MAM01592c[c] <=> MAM01592n[n]</p>\n",
       "                    <p style='text-align:right'>CMP-N-acetylneuraminate [Cytosol] <=> CMP-N-acetylneuraminate [Nucleus]</p>\n",
       "                </td>\n",
       "            </tr><tr>\n",
       "                <td><strong>GPR</strong></td><td>ENSG00000164414</td>\n",
       "            </tr><tr>\n",
       "                <td><strong>Lower bound</strong></td><td>-1000.0</td>\n",
       "            </tr><tr>\n",
       "                <td><strong>Upper bound</strong></td><td>1000.0</td>\n",
       "            </tr>\n",
       "        </table>\n",
       "        "
      ],
      "text/plain": [
       "<Reaction MAR04535 at 0x7fc5fa0e5b70>"
      ]
     },
     "execution_count": 29,
     "metadata": {},
     "output_type": "execute_result"
    }
   ],
   "source": [
    "KMS20.reactions.MAR04535"
   ]
  },
  {
   "cell_type": "markdown",
   "metadata": {},
   "source": [
    "Viendo las reacciones en las que participa, podemos intuir que se trata de un transportador de CMP, encargándose de transportar dicha molécula entre diferentes orgánulos tales como el Núcleo, el Aparato de Golgi o el Citosol."
   ]
  },
  {
   "cell_type": "markdown",
   "metadata": {},
   "source": [
    "Si comprobamos la eficacia de este gen como target en las 3 líneas de mieloma, obtenemos lo siguiente:"
   ]
  },
  {
   "cell_type": "code",
   "execution_count": 30,
   "metadata": {},
   "outputs": [
    {
     "name": "stdout",
     "output_type": "stream",
     "text": [
      "ENSG00000164414 153.9552976499519 0.0 148.8926320607762\n"
     ]
    }
   ],
   "source": [
    "target = \"ENSG00000164414\"\n",
    "with JJN3:\n",
    "    JJN3.genes.get_by_id(target).knock_out()\n",
    "    sol1=JJN3.slim_optimize()\n",
    "with KMS20:\n",
    "    KMS20.genes.get_by_id(target).knock_out()\n",
    "    sol2=KMS20.slim_optimize()\n",
    "with HUNS1:\n",
    "    HUNS1.genes.get_by_id(target).knock_out()\n",
    "    sol3=HUNS1.slim_optimize()\n",
    "print(target,sol1,sol2,sol3)"
   ]
  },
  {
   "cell_type": "markdown",
   "metadata": {},
   "source": [
    "Vemos como la supresión de este gen solo tiene efecto en la línea \"KMS20\", como era de esperar. "
   ]
  }
 ],
 "metadata": {
  "kernelspec": {
   "display_name": "Python3.6",
   "language": "python",
   "name": "python3.6"
  },
  "language_info": {
   "codemirror_mode": {
    "name": "ipython",
    "version": 3
   },
   "file_extension": ".py",
   "mimetype": "text/x-python",
   "name": "python",
   "nbconvert_exporter": "python",
   "pygments_lexer": "ipython3",
   "version": "3.6.8"
  }
 },
 "nbformat": 4,
 "nbformat_minor": 4
}
