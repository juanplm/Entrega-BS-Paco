{
 "cells": [
  {
   "cell_type": "markdown",
   "metadata": {},
   "source": [
    "## Punto 2 y 3. Cálculo de las toxicidades genéricas específicas para cada modelo de tejido sano; y cálculo de los targets genéticos para cada modelo de mieloma múltiple."
   ]
  },
  {
   "cell_type": "code",
   "execution_count": 1,
   "metadata": {},
   "outputs": [],
   "source": [
    "import cplex\n",
    "import cobra\n",
    "import time\n",
    "import pickle\n",
    "import sys\n",
    "cobra.Configuration().solver='cplex'"
   ]
  },
  {
   "cell_type": "code",
   "execution_count": null,
   "metadata": {},
   "outputs": [],
   "source": [
    "start=time.time()"
   ]
  },
  {
   "cell_type": "code",
   "execution_count": 2,
   "metadata": {},
   "outputs": [],
   "source": [
    "path=\"../Entrega Paco/\"\n",
    "nombreInicial=sys.argv[1]\n",
    "nombreFinal=sys.argv[2]\n",
    "with open(path+nombreInicial, \"rb\") as f:\n",
    "    modelo=pickle.load(f)"
   ]
  },
  {
   "cell_type": "code",
   "execution_count": 3,
   "metadata": {},
   "outputs": [
    {
     "name": "stdout",
     "output_type": "stream",
     "text": [
      "7904\n"
     ]
    }
   ],
   "source": [
    "susGenes=dict() #Vamos a guardar los genes clave de cada reaccion en un diccionario\n",
    "for r in modelo.reactions:\n",
    "    grr=r.gene_reaction_rule\n",
    "    if len(r.genes)==0: #Si no tiene genes, pues declaramos como un set vacío\n",
    "        susGenes[r.id]=set()\n",
    "    if len(r.genes)==1: #Si solo tiene un gen, lo guardamos, lo queremos\n",
    "        susGenes[r.id]=set([g.id for g in r.genes]) #Nos quedamos con el gen cuando solo tiene 1\n",
    "    if \"or\" in grr and not \"and\" in grr: #si tiene OR pero no AND, pasamos de los genes\n",
    "        susGenes[r.id]=set()\n",
    "    if \"and\" in grr and not \"or\" in grr: #Si solo tenemos \"AND\", separamos los genes y los guardamos todos\n",
    "        susGenes[r.id]=set(grr.split(\" and \")) #Ponemos \" and \" para que nos separe y nos de una lista con los genes, sin espacios\n",
    "    if \"and\" in grr and \"or\" in grr: # Si tiene \"AND\" y \"OR\" tambie nos quedamos todos los genes\n",
    "        susGenes[r.id]=set([g.id for g in r.genes])"
   ]
  },
  {
   "cell_type": "code",
   "execution_count": 4,
   "metadata": {},
   "outputs": [
    {
     "name": "stdout",
     "output_type": "stream",
     "text": [
      "1054\n"
     ]
    }
   ],
   "source": [
    "biomasa=modelo.reactions.MAR13082 \n",
    "# Buscamos el soporte\n",
    "error=10**-12\n",
    "with modelo:\n",
    "    # El objetivo de este modelo por defecto es la BIOMASA, entonces no hace falta indicarlo\n",
    "    modelo.objective=biomasa\n",
    "    modelo.objective_direction=\"max\"\n",
    "    sol=modelo.optimize() #No hago el SLIM, porque luego quiero ver que reacciones están activas en la solución\n",
    "    sop=[r.id for i,r in enumerate(modelo.reactions) if abs(sol.fluxes[i])>error]\n",
    "    #Guardamos las reacciones cuyo flujo es positivo"
   ]
  },
  {
   "cell_type": "code",
   "execution_count": 5,
   "metadata": {},
   "outputs": [
    {
     "name": "stdout",
     "output_type": "stream",
     "text": [
      "352\n"
     ]
    }
   ],
   "source": [
    "# Ahora vemos que genes podemos cargarnos para cargarnos cada reacción\n",
    "# del soporte obtenido\n",
    "\n",
    "candidatos=set()\n",
    "for r in sop:\n",
    "    candidatos.update(susGenes[r])"
   ]
  },
  {
   "cell_type": "code",
   "execution_count": 6,
   "metadata": {},
   "outputs": [],
   "source": [
    "maxBiomasa=modelo.slim_optimize()"
   ]
  },
  {
   "cell_type": "code",
   "execution_count": 7,
   "metadata": {},
   "outputs": [
    {
     "data": {
      "text/plain": [
       "122"
      ]
     },
     "execution_count": 7,
     "metadata": {},
     "output_type": "execute_result"
    }
   ],
   "source": [
    "gMCSs=set()\n",
    "for g in candidatos:\n",
    "    with modelo:\n",
    "        modelo.genes.get_by_id(g).knock_out()\n",
    "        biomasa.bounds=[maxBiomasa/1000,10000]\n",
    "        sol=modelo.slim_optimize(error_value=-1)\n",
    "        if sol==-1:\n",
    "            gMCSs.add(g)"
   ]
  },
  {
   "cell_type": "code",
   "execution_count": null,
   "metadata": {},
   "outputs": [],
   "source": [
    "with open(path+nombreFinal, \"wb\") as f:\n",
    "    pickle.dump(gMCSs,f)"
   ]
  },
  {
   "cell_type": "code",
   "execution_count": null,
   "metadata": {},
   "outputs": [],
   "source": [
    "print(len(gMCSs), time.time()-start)"
   ]
  }
 ],
 "metadata": {
  "kernelspec": {
   "display_name": "Python3.6",
   "language": "python",
   "name": "python3.6"
  },
  "language_info": {
   "codemirror_mode": {
    "name": "ipython",
    "version": 3
   },
   "file_extension": ".py",
   "mimetype": "text/x-python",
   "name": "python",
   "nbconvert_exporter": "python",
   "pygments_lexer": "ipython3",
   "version": "3.6.8"
  }
 },
 "nbformat": 4,
 "nbformat_minor": 4
}
